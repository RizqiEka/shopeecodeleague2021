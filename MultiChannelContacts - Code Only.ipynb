{
 "metadata": {
  "language_info": {
   "codemirror_mode": {
    "name": "ipython",
    "version": 3
   },
   "file_extension": ".py",
   "mimetype": "text/x-python",
   "name": "python",
   "nbconvert_exporter": "python",
   "pygments_lexer": "ipython3",
   "version": "3.7.6-final"
  },
  "orig_nbformat": 2,
  "kernelspec": {
   "name": "python3",
   "display_name": "Python 3",
   "language": "python"
  }
 },
 "nbformat": 4,
 "nbformat_minor": 2,
 "cells": [
  {
   "source": [
    "import json\n",
    "import pandas as pd\n",
    "import numpy as np\n",
    "import time as tm\n",
    "\n",
    "start = tm.time()"
   ],
   "cell_type": "code",
   "metadata": {},
   "execution_count": 36,
   "outputs": []
  },
  {
   "cell_type": "code",
   "execution_count": 54,
   "metadata": {},
   "outputs": [],
   "source": [
    "df = pd.read_json('contacts.json')"
   ]
  },
  {
   "cell_type": "code",
   "execution_count": 57,
   "metadata": {},
   "outputs": [
    {
     "output_type": "execute_result",
     "data": {
      "text/plain": [
       "   Id                     Email         Phone  Contacts  \\\n",
       "0   0            gkzAbIy@qq.com                       1   \n",
       "1   1                            329442681752         4   \n",
       "2   2                              9125983679         0   \n",
       "3   3        mdllpYmE@gmail.com                       0   \n",
       "4   4                               300364407         2   \n",
       "5   5                               840113148         0   \n",
       "6   6  hESiBgYTxMnj@hotmail.com                       4   \n",
       "7   7  hqyunTiaXfIjhO@yahoo.com                       1   \n",
       "8   8   XGUjcSiDpFKWEUCs@qq.com  223604620644         2   \n",
       "9   9    osIIQgAiZX@hotmail.com                       0   \n",
       "\n",
       "                     OrderId  \n",
       "0                             \n",
       "1  vDDJJcxfLtSfkooPhbYnJdxov  \n",
       "2                             \n",
       "3  bHquEnCbbsGLqllwryxPsNOxa  \n",
       "4                             \n",
       "5                             \n",
       "6                             \n",
       "7  vxjYZtMUvNhtEBDruzQfjpsmX  \n",
       "8                             \n",
       "9  IqewrMXVTJqSsVklWFfOpdRNI  "
      ],
      "text/html": "<div>\n<style scoped>\n    .dataframe tbody tr th:only-of-type {\n        vertical-align: middle;\n    }\n\n    .dataframe tbody tr th {\n        vertical-align: top;\n    }\n\n    .dataframe thead th {\n        text-align: right;\n    }\n</style>\n<table border=\"1\" class=\"dataframe\">\n  <thead>\n    <tr style=\"text-align: right;\">\n      <th></th>\n      <th>Id</th>\n      <th>Email</th>\n      <th>Phone</th>\n      <th>Contacts</th>\n      <th>OrderId</th>\n    </tr>\n  </thead>\n  <tbody>\n    <tr>\n      <th>0</th>\n      <td>0</td>\n      <td>gkzAbIy@qq.com</td>\n      <td></td>\n      <td>1</td>\n      <td></td>\n    </tr>\n    <tr>\n      <th>1</th>\n      <td>1</td>\n      <td></td>\n      <td>329442681752</td>\n      <td>4</td>\n      <td>vDDJJcxfLtSfkooPhbYnJdxov</td>\n    </tr>\n    <tr>\n      <th>2</th>\n      <td>2</td>\n      <td></td>\n      <td>9125983679</td>\n      <td>0</td>\n      <td></td>\n    </tr>\n    <tr>\n      <th>3</th>\n      <td>3</td>\n      <td>mdllpYmE@gmail.com</td>\n      <td></td>\n      <td>0</td>\n      <td>bHquEnCbbsGLqllwryxPsNOxa</td>\n    </tr>\n    <tr>\n      <th>4</th>\n      <td>4</td>\n      <td></td>\n      <td>300364407</td>\n      <td>2</td>\n      <td></td>\n    </tr>\n    <tr>\n      <th>5</th>\n      <td>5</td>\n      <td></td>\n      <td>840113148</td>\n      <td>0</td>\n      <td></td>\n    </tr>\n    <tr>\n      <th>6</th>\n      <td>6</td>\n      <td>hESiBgYTxMnj@hotmail.com</td>\n      <td></td>\n      <td>4</td>\n      <td></td>\n    </tr>\n    <tr>\n      <th>7</th>\n      <td>7</td>\n      <td>hqyunTiaXfIjhO@yahoo.com</td>\n      <td></td>\n      <td>1</td>\n      <td>vxjYZtMUvNhtEBDruzQfjpsmX</td>\n    </tr>\n    <tr>\n      <th>8</th>\n      <td>8</td>\n      <td>XGUjcSiDpFKWEUCs@qq.com</td>\n      <td>223604620644</td>\n      <td>2</td>\n      <td></td>\n    </tr>\n    <tr>\n      <th>9</th>\n      <td>9</td>\n      <td>osIIQgAiZX@hotmail.com</td>\n      <td></td>\n      <td>0</td>\n      <td>IqewrMXVTJqSsVklWFfOpdRNI</td>\n    </tr>\n  </tbody>\n</table>\n</div>"
     },
     "metadata": {},
     "execution_count": 57
    }
   ],
   "source": [
    "df.head(10)"
   ]
  },
  {
   "cell_type": "code",
   "execution_count": 62,
   "metadata": {},
   "outputs": [],
   "source": [
    "df = df.replace('', np.nan)"
   ]
  },
  {
   "cell_type": "code",
   "execution_count": 65,
   "metadata": {},
   "outputs": [
    {
     "output_type": "execute_result",
     "data": {
      "text/plain": [
       "   Id                     Email         Phone  Contacts  \\\n",
       "0   0            gkzAbIy@qq.com           NaN         1   \n",
       "1   1                       NaN  329442681752         4   \n",
       "2   2                       NaN    9125983679         0   \n",
       "3   3        mdllpYmE@gmail.com           NaN         0   \n",
       "4   4                       NaN     300364407         2   \n",
       "5   5                       NaN     840113148         0   \n",
       "6   6  hESiBgYTxMnj@hotmail.com           NaN         4   \n",
       "7   7  hqyunTiaXfIjhO@yahoo.com           NaN         1   \n",
       "8   8   XGUjcSiDpFKWEUCs@qq.com  223604620644         2   \n",
       "9   9    osIIQgAiZX@hotmail.com           NaN         0   \n",
       "\n",
       "                     OrderId  \n",
       "0                        NaN  \n",
       "1  vDDJJcxfLtSfkooPhbYnJdxov  \n",
       "2                        NaN  \n",
       "3  bHquEnCbbsGLqllwryxPsNOxa  \n",
       "4                        NaN  \n",
       "5                        NaN  \n",
       "6                        NaN  \n",
       "7  vxjYZtMUvNhtEBDruzQfjpsmX  \n",
       "8                        NaN  \n",
       "9  IqewrMXVTJqSsVklWFfOpdRNI  "
      ],
      "text/html": "<div>\n<style scoped>\n    .dataframe tbody tr th:only-of-type {\n        vertical-align: middle;\n    }\n\n    .dataframe tbody tr th {\n        vertical-align: top;\n    }\n\n    .dataframe thead th {\n        text-align: right;\n    }\n</style>\n<table border=\"1\" class=\"dataframe\">\n  <thead>\n    <tr style=\"text-align: right;\">\n      <th></th>\n      <th>Id</th>\n      <th>Email</th>\n      <th>Phone</th>\n      <th>Contacts</th>\n      <th>OrderId</th>\n    </tr>\n  </thead>\n  <tbody>\n    <tr>\n      <th>0</th>\n      <td>0</td>\n      <td>gkzAbIy@qq.com</td>\n      <td>NaN</td>\n      <td>1</td>\n      <td>NaN</td>\n    </tr>\n    <tr>\n      <th>1</th>\n      <td>1</td>\n      <td>NaN</td>\n      <td>329442681752</td>\n      <td>4</td>\n      <td>vDDJJcxfLtSfkooPhbYnJdxov</td>\n    </tr>\n    <tr>\n      <th>2</th>\n      <td>2</td>\n      <td>NaN</td>\n      <td>9125983679</td>\n      <td>0</td>\n      <td>NaN</td>\n    </tr>\n    <tr>\n      <th>3</th>\n      <td>3</td>\n      <td>mdllpYmE@gmail.com</td>\n      <td>NaN</td>\n      <td>0</td>\n      <td>bHquEnCbbsGLqllwryxPsNOxa</td>\n    </tr>\n    <tr>\n      <th>4</th>\n      <td>4</td>\n      <td>NaN</td>\n      <td>300364407</td>\n      <td>2</td>\n      <td>NaN</td>\n    </tr>\n    <tr>\n      <th>5</th>\n      <td>5</td>\n      <td>NaN</td>\n      <td>840113148</td>\n      <td>0</td>\n      <td>NaN</td>\n    </tr>\n    <tr>\n      <th>6</th>\n      <td>6</td>\n      <td>hESiBgYTxMnj@hotmail.com</td>\n      <td>NaN</td>\n      <td>4</td>\n      <td>NaN</td>\n    </tr>\n    <tr>\n      <th>7</th>\n      <td>7</td>\n      <td>hqyunTiaXfIjhO@yahoo.com</td>\n      <td>NaN</td>\n      <td>1</td>\n      <td>vxjYZtMUvNhtEBDruzQfjpsmX</td>\n    </tr>\n    <tr>\n      <th>8</th>\n      <td>8</td>\n      <td>XGUjcSiDpFKWEUCs@qq.com</td>\n      <td>223604620644</td>\n      <td>2</td>\n      <td>NaN</td>\n    </tr>\n    <tr>\n      <th>9</th>\n      <td>9</td>\n      <td>osIIQgAiZX@hotmail.com</td>\n      <td>NaN</td>\n      <td>0</td>\n      <td>IqewrMXVTJqSsVklWFfOpdRNI</td>\n    </tr>\n  </tbody>\n</table>\n</div>"
     },
     "metadata": {},
     "execution_count": 65
    }
   ],
   "source": [
    "df.head(10)"
   ]
  },
  {
   "cell_type": "code",
   "execution_count": 77,
   "metadata": {},
   "outputs": [
    {
     "output_type": "execute_result",
     "data": {
      "text/plain": [
       "            Id                             Email       Phone  Contacts  \\\n",
       "112387  112387       AAAQbNfGbLAeOvw@hotmail.com         NaN         0   \n",
       "470075  470075       AAAQbNfGbLAeOvw@hotmail.com         NaN         4   \n",
       "338154  338154             AAAgyKTteOjasN@qq.com         NaN         2   \n",
       "426495  426495            AABZmKeEldvO@gmail.com         NaN         2   \n",
       "37868    37868                AABneiGcqcz@qq.com         NaN         3   \n",
       "...        ...                               ...         ...       ...   \n",
       "425119  425119               zzyacSRLb@gmail.com         NaN         4   \n",
       "146556  146556      zzylmjkoqfCkTOxi@hotmail.com         NaN         3   \n",
       "458030  458030  zzyvKfCcQWPJdShGoItP@hotmail.com         NaN         2   \n",
       "381064  381064  zzyvKfCcQWPJdShGoItP@hotmail.com         NaN         0   \n",
       "232950  232950   zzyvegdhAJTFNDRQhMS@hotmail.com  3509005223         0   \n",
       "\n",
       "                          OrderId  \n",
       "112387  icpsNLaMpSDCRaKQIcwADlQHK  \n",
       "470075                        NaN  \n",
       "338154                        NaN  \n",
       "426495                        NaN  \n",
       "37868   HEbxIabhvRUskctakfvidCcVs  \n",
       "...                           ...  \n",
       "425119  zChTLBmXJoPhBxYMrllaqywlZ  \n",
       "146556  qLHBzKUexyPnXKmVopokZbXCW  \n",
       "458030  zMWNHuUNdOjfKAXKNyxdKVAox  \n",
       "381064                        NaN  \n",
       "232950                        NaN  \n",
       "\n",
       "[348606 rows x 5 columns]"
      ],
      "text/html": "<div>\n<style scoped>\n    .dataframe tbody tr th:only-of-type {\n        vertical-align: middle;\n    }\n\n    .dataframe tbody tr th {\n        vertical-align: top;\n    }\n\n    .dataframe thead th {\n        text-align: right;\n    }\n</style>\n<table border=\"1\" class=\"dataframe\">\n  <thead>\n    <tr style=\"text-align: right;\">\n      <th></th>\n      <th>Id</th>\n      <th>Email</th>\n      <th>Phone</th>\n      <th>Contacts</th>\n      <th>OrderId</th>\n    </tr>\n  </thead>\n  <tbody>\n    <tr>\n      <th>112387</th>\n      <td>112387</td>\n      <td>AAAQbNfGbLAeOvw@hotmail.com</td>\n      <td>NaN</td>\n      <td>0</td>\n      <td>icpsNLaMpSDCRaKQIcwADlQHK</td>\n    </tr>\n    <tr>\n      <th>470075</th>\n      <td>470075</td>\n      <td>AAAQbNfGbLAeOvw@hotmail.com</td>\n      <td>NaN</td>\n      <td>4</td>\n      <td>NaN</td>\n    </tr>\n    <tr>\n      <th>338154</th>\n      <td>338154</td>\n      <td>AAAgyKTteOjasN@qq.com</td>\n      <td>NaN</td>\n      <td>2</td>\n      <td>NaN</td>\n    </tr>\n    <tr>\n      <th>426495</th>\n      <td>426495</td>\n      <td>AABZmKeEldvO@gmail.com</td>\n      <td>NaN</td>\n      <td>2</td>\n      <td>NaN</td>\n    </tr>\n    <tr>\n      <th>37868</th>\n      <td>37868</td>\n      <td>AABneiGcqcz@qq.com</td>\n      <td>NaN</td>\n      <td>3</td>\n      <td>HEbxIabhvRUskctakfvidCcVs</td>\n    </tr>\n    <tr>\n      <th>...</th>\n      <td>...</td>\n      <td>...</td>\n      <td>...</td>\n      <td>...</td>\n      <td>...</td>\n    </tr>\n    <tr>\n      <th>425119</th>\n      <td>425119</td>\n      <td>zzyacSRLb@gmail.com</td>\n      <td>NaN</td>\n      <td>4</td>\n      <td>zChTLBmXJoPhBxYMrllaqywlZ</td>\n    </tr>\n    <tr>\n      <th>146556</th>\n      <td>146556</td>\n      <td>zzylmjkoqfCkTOxi@hotmail.com</td>\n      <td>NaN</td>\n      <td>3</td>\n      <td>qLHBzKUexyPnXKmVopokZbXCW</td>\n    </tr>\n    <tr>\n      <th>458030</th>\n      <td>458030</td>\n      <td>zzyvKfCcQWPJdShGoItP@hotmail.com</td>\n      <td>NaN</td>\n      <td>2</td>\n      <td>zMWNHuUNdOjfKAXKNyxdKVAox</td>\n    </tr>\n    <tr>\n      <th>381064</th>\n      <td>381064</td>\n      <td>zzyvKfCcQWPJdShGoItP@hotmail.com</td>\n      <td>NaN</td>\n      <td>0</td>\n      <td>NaN</td>\n    </tr>\n    <tr>\n      <th>232950</th>\n      <td>232950</td>\n      <td>zzyvegdhAJTFNDRQhMS@hotmail.com</td>\n      <td>3509005223</td>\n      <td>0</td>\n      <td>NaN</td>\n    </tr>\n  </tbody>\n</table>\n<p>348606 rows × 5 columns</p>\n</div>"
     },
     "metadata": {},
     "execution_count": 77
    }
   ],
   "source": [
    "dfE = df[df['Email'].notna()].sort_values(by=['Email'])\n",
    "dfE"
   ]
  },
  {
   "cell_type": "code",
   "execution_count": 69,
   "metadata": {},
   "outputs": [],
   "source": [
    "dfE = dfE.groupby('Email')['Id'].apply(set)"
   ]
  },
  {
   "cell_type": "code",
   "execution_count": 73,
   "metadata": {},
   "outputs": [],
   "source": [
    "dfE2 = df[df['Email'].notna()].groupby('Email')['Id'].apply(set)"
   ]
  },
  {
   "cell_type": "code",
   "execution_count": 78,
   "metadata": {},
   "outputs": [
    {
     "output_type": "execute_result",
     "data": {
      "text/plain": [
       "pandas.core.series.Series"
      ]
     },
     "metadata": {},
     "execution_count": 78
    }
   ],
   "source": [
    "type(dfE2)"
   ]
  },
  {
   "cell_type": "code",
   "execution_count": 76,
   "metadata": {},
   "outputs": [
    {
     "output_type": "execute_result",
     "data": {
      "text/plain": [
       "249156"
      ]
     },
     "metadata": {},
     "execution_count": 76
    }
   ],
   "source": [
    "len(dfE)"
   ]
  },
  {
   "cell_type": "code",
   "execution_count": 6,
   "metadata": {},
   "outputs": [
    {
     "output_type": "execute_result",
     "data": {
      "text/plain": [
       "            id                         email         phone  contacts  \\\n",
       "318092  318092              jfgTlOasz@qq.com     000002957         1   \n",
       "411745  411745                           NaN   00000837565         4   \n",
       "333273  333273                           NaN   00001018140         0   \n",
       "170421  170421              slpvdUMHc@qq.com    0000109887         0   \n",
       "229812  229812       mHEhaAPXNQeafgca@qq.com    0000211995         3   \n",
       "...        ...                           ...           ...       ...   \n",
       "37583    37583                           NaN  999987880646         2   \n",
       "179194  179194  RysRylVLMYeWPelWvk@gmail.com   99999153118         0   \n",
       "483731  483731                           NaN    9999969553         4   \n",
       "323366  323366                           NaN    9999969553         3   \n",
       "283756  283756                           NaN     999997713         3   \n",
       "\n",
       "                          orderid  \n",
       "318092                        NaN  \n",
       "411745                        NaN  \n",
       "333273  QLVbKUPARSAzURDmkRaLwpEwU  \n",
       "170421  EYcFTihIyfNxMJeEMcVITQJlq  \n",
       "229812                        NaN  \n",
       "...                           ...  \n",
       "37583                         NaN  \n",
       "179194  FTiiLHnMAUfFQmKVTbfXVThmx  \n",
       "483731  bRsjJdWdGEQBDyzxORpsclyNx  \n",
       "323366                        NaN  \n",
       "283756                        NaN  \n",
       "\n",
       "[245081 rows x 5 columns]"
      ],
      "text/html": "<div>\n<style scoped>\n    .dataframe tbody tr th:only-of-type {\n        vertical-align: middle;\n    }\n\n    .dataframe tbody tr th {\n        vertical-align: top;\n    }\n\n    .dataframe thead th {\n        text-align: right;\n    }\n</style>\n<table border=\"1\" class=\"dataframe\">\n  <thead>\n    <tr style=\"text-align: right;\">\n      <th></th>\n      <th>id</th>\n      <th>email</th>\n      <th>phone</th>\n      <th>contacts</th>\n      <th>orderid</th>\n    </tr>\n  </thead>\n  <tbody>\n    <tr>\n      <th>318092</th>\n      <td>318092</td>\n      <td>jfgTlOasz@qq.com</td>\n      <td>000002957</td>\n      <td>1</td>\n      <td>NaN</td>\n    </tr>\n    <tr>\n      <th>411745</th>\n      <td>411745</td>\n      <td>NaN</td>\n      <td>00000837565</td>\n      <td>4</td>\n      <td>NaN</td>\n    </tr>\n    <tr>\n      <th>333273</th>\n      <td>333273</td>\n      <td>NaN</td>\n      <td>00001018140</td>\n      <td>0</td>\n      <td>QLVbKUPARSAzURDmkRaLwpEwU</td>\n    </tr>\n    <tr>\n      <th>170421</th>\n      <td>170421</td>\n      <td>slpvdUMHc@qq.com</td>\n      <td>0000109887</td>\n      <td>0</td>\n      <td>EYcFTihIyfNxMJeEMcVITQJlq</td>\n    </tr>\n    <tr>\n      <th>229812</th>\n      <td>229812</td>\n      <td>mHEhaAPXNQeafgca@qq.com</td>\n      <td>0000211995</td>\n      <td>3</td>\n      <td>NaN</td>\n    </tr>\n    <tr>\n      <th>...</th>\n      <td>...</td>\n      <td>...</td>\n      <td>...</td>\n      <td>...</td>\n      <td>...</td>\n    </tr>\n    <tr>\n      <th>37583</th>\n      <td>37583</td>\n      <td>NaN</td>\n      <td>999987880646</td>\n      <td>2</td>\n      <td>NaN</td>\n    </tr>\n    <tr>\n      <th>179194</th>\n      <td>179194</td>\n      <td>RysRylVLMYeWPelWvk@gmail.com</td>\n      <td>99999153118</td>\n      <td>0</td>\n      <td>FTiiLHnMAUfFQmKVTbfXVThmx</td>\n    </tr>\n    <tr>\n      <th>483731</th>\n      <td>483731</td>\n      <td>NaN</td>\n      <td>9999969553</td>\n      <td>4</td>\n      <td>bRsjJdWdGEQBDyzxORpsclyNx</td>\n    </tr>\n    <tr>\n      <th>323366</th>\n      <td>323366</td>\n      <td>NaN</td>\n      <td>9999969553</td>\n      <td>3</td>\n      <td>NaN</td>\n    </tr>\n    <tr>\n      <th>283756</th>\n      <td>283756</td>\n      <td>NaN</td>\n      <td>999997713</td>\n      <td>3</td>\n      <td>NaN</td>\n    </tr>\n  </tbody>\n</table>\n<p>245081 rows × 5 columns</p>\n</div>"
     },
     "metadata": {},
     "execution_count": 6
    }
   ],
   "source": [
    "dfP = df[df['phone'].notna()].sort_values(by=['phone'])\n",
    "dfP"
   ]
  },
  {
   "cell_type": "code",
   "execution_count": 7,
   "metadata": {},
   "outputs": [
    {
     "output_type": "execute_result",
     "data": {
      "text/plain": [
       "            id                        email         phone  contacts  \\\n",
       "445646  445646                          NaN     043194750         3   \n",
       "143711  143711  VqskCrEDScUxkjRBS@yahoo.com           NaN         2   \n",
       "494384  494384      mshoILtrFDiQV@yahoo.com     856277148         0   \n",
       "442033  442033                          NaN   41620151366         3   \n",
       "189835  189835      CAKjixtXUzRbDePM@qq.com           NaN         1   \n",
       "...        ...                          ...           ...       ...   \n",
       "121686  121686       vSSlPjuINOTNkFJ@qq.com           NaN         1   \n",
       "123567  123567                          NaN   12265894566         3   \n",
       "157905  157905                          NaN  366923956355         0   \n",
       "448818  448818            QIqOnxM@yahoo.com     061499216         4   \n",
       "185275  185275                          NaN  546487760952         0   \n",
       "\n",
       "                          orderid  \n",
       "445646  AADcJzTiOYaerdvPPIpHTYWFg  \n",
       "143711  AAEDFOpdyZxsvmPcPgmwiELFs  \n",
       "494384  AAFgjEiKBoQQXfhywaKwGiMlF  \n",
       "442033  AAGNMeqoqZVLQYPeKQzxFXjGQ  \n",
       "189835  AAHFEboLRkpHKWItnsgAmTbGN  \n",
       "...                           ...  \n",
       "121686  zzuRehsZjVaspgpsRtVgaJCul  \n",
       "123567  zzvXLpaILosxjQVAfehImxyqM  \n",
       "157905  zzwYYYbmHxGAlqbtuVzIIVQVl  \n",
       "448818  zzxguiahceHZcBcyYDPGqfVsA  \n",
       "185275  zzyCSPABaRqpWOAiPLVlFWtoz  \n",
       "\n",
       "[243544 rows x 5 columns]"
      ],
      "text/html": "<div>\n<style scoped>\n    .dataframe tbody tr th:only-of-type {\n        vertical-align: middle;\n    }\n\n    .dataframe tbody tr th {\n        vertical-align: top;\n    }\n\n    .dataframe thead th {\n        text-align: right;\n    }\n</style>\n<table border=\"1\" class=\"dataframe\">\n  <thead>\n    <tr style=\"text-align: right;\">\n      <th></th>\n      <th>id</th>\n      <th>email</th>\n      <th>phone</th>\n      <th>contacts</th>\n      <th>orderid</th>\n    </tr>\n  </thead>\n  <tbody>\n    <tr>\n      <th>445646</th>\n      <td>445646</td>\n      <td>NaN</td>\n      <td>043194750</td>\n      <td>3</td>\n      <td>AADcJzTiOYaerdvPPIpHTYWFg</td>\n    </tr>\n    <tr>\n      <th>143711</th>\n      <td>143711</td>\n      <td>VqskCrEDScUxkjRBS@yahoo.com</td>\n      <td>NaN</td>\n      <td>2</td>\n      <td>AAEDFOpdyZxsvmPcPgmwiELFs</td>\n    </tr>\n    <tr>\n      <th>494384</th>\n      <td>494384</td>\n      <td>mshoILtrFDiQV@yahoo.com</td>\n      <td>856277148</td>\n      <td>0</td>\n      <td>AAFgjEiKBoQQXfhywaKwGiMlF</td>\n    </tr>\n    <tr>\n      <th>442033</th>\n      <td>442033</td>\n      <td>NaN</td>\n      <td>41620151366</td>\n      <td>3</td>\n      <td>AAGNMeqoqZVLQYPeKQzxFXjGQ</td>\n    </tr>\n    <tr>\n      <th>189835</th>\n      <td>189835</td>\n      <td>CAKjixtXUzRbDePM@qq.com</td>\n      <td>NaN</td>\n      <td>1</td>\n      <td>AAHFEboLRkpHKWItnsgAmTbGN</td>\n    </tr>\n    <tr>\n      <th>...</th>\n      <td>...</td>\n      <td>...</td>\n      <td>...</td>\n      <td>...</td>\n      <td>...</td>\n    </tr>\n    <tr>\n      <th>121686</th>\n      <td>121686</td>\n      <td>vSSlPjuINOTNkFJ@qq.com</td>\n      <td>NaN</td>\n      <td>1</td>\n      <td>zzuRehsZjVaspgpsRtVgaJCul</td>\n    </tr>\n    <tr>\n      <th>123567</th>\n      <td>123567</td>\n      <td>NaN</td>\n      <td>12265894566</td>\n      <td>3</td>\n      <td>zzvXLpaILosxjQVAfehImxyqM</td>\n    </tr>\n    <tr>\n      <th>157905</th>\n      <td>157905</td>\n      <td>NaN</td>\n      <td>366923956355</td>\n      <td>0</td>\n      <td>zzwYYYbmHxGAlqbtuVzIIVQVl</td>\n    </tr>\n    <tr>\n      <th>448818</th>\n      <td>448818</td>\n      <td>QIqOnxM@yahoo.com</td>\n      <td>061499216</td>\n      <td>4</td>\n      <td>zzxguiahceHZcBcyYDPGqfVsA</td>\n    </tr>\n    <tr>\n      <th>185275</th>\n      <td>185275</td>\n      <td>NaN</td>\n      <td>546487760952</td>\n      <td>0</td>\n      <td>zzyCSPABaRqpWOAiPLVlFWtoz</td>\n    </tr>\n  </tbody>\n</table>\n<p>243544 rows × 5 columns</p>\n</div>"
     },
     "metadata": {},
     "execution_count": 7
    }
   ],
   "source": [
    "dfO = df[df['orderid'].notna()].sort_values(by=['orderid'])\n",
    "dfO"
   ]
  },
  {
   "cell_type": "code",
   "execution_count": 8,
   "metadata": {},
   "outputs": [],
   "source": [
    "ls_ide = list(dfE['id'])\n",
    "ls_idp = list(dfP['id'])\n",
    "ls_ido = list(dfO['id'])\n",
    "\n",
    "ls_e = list(dfE['email'])\n",
    "ls_en = sorted(list(set(ls_e)))\n",
    "\n",
    "ls_p = list(dfP['phone'])\n",
    "ls_pn = sorted(list(set(ls_p)))\n",
    "\n",
    "ls_o = list(dfO['orderid'])\n",
    "ls_on = sorted(list(set(ls_o)))\n",
    "\n",
    "ls_idez = list(zip(ls_ide,ls_e))\n",
    "ls_idpz = list(zip(ls_idp,ls_p))\n",
    "ls_idoz = list(zip(ls_ido,ls_o))"
   ]
  },
  {
   "cell_type": "code",
   "execution_count": 9,
   "metadata": {},
   "outputs": [
    {
     "output_type": "stream",
     "name": "stdout",
     "text": [
      "348606\n245081\n243544\n249156\n190677\n189302\n348606\n245081\n243544\n"
     ]
    }
   ],
   "source": [
    "print(len(ls_ide))\n",
    "print(len(ls_idp))\n",
    "print(len(ls_ido))\n",
    "\n",
    "print(len(ls_en))\n",
    "print(len(ls_pn))\n",
    "print(len(ls_on))\n",
    "\n",
    "print(len(ls_idez))\n",
    "print(len(ls_idpz))\n",
    "print(len(ls_idoz))"
   ]
  },
  {
   "cell_type": "code",
   "execution_count": 10,
   "metadata": {},
   "outputs": [],
   "source": [
    "dictE2 = {}\n",
    "\n",
    "num = 0\n",
    "for i in ls_en:\n",
    "    temp = []\n",
    "    for j in range(num, len(ls_idez)):\n",
    "        if i == ls_idez[j][1]:\n",
    "            temp.append(ls_idez[j][0])\n",
    "            dictE2[i] = temp\n",
    "            num +=1\n",
    "        else:\n",
    "            break"
   ]
  },
  {
   "cell_type": "code",
   "execution_count": 72,
   "metadata": {},
   "outputs": [
    {
     "output_type": "execute_result",
     "data": {
      "text/plain": [
       "Email\n",
       "AAAQbNfGbLAeOvw@hotmail.com         {470075, 112387}\n",
       "AAAgyKTteOjasN@qq.com                       {338154}\n",
       "AABZmKeEldvO@gmail.com                      {426495}\n",
       "AABneiGcqcz@qq.com                           {37868}\n",
       "AABtOIZmdYdKGnidAK@yahoo.com                {137956}\n",
       "                                          ...       \n",
       "zzyYjbPWM@hotmail.com               {143089, 338473}\n",
       "zzyacSRLb@gmail.com                         {425119}\n",
       "zzylmjkoqfCkTOxi@hotmail.com                {146556}\n",
       "zzyvKfCcQWPJdShGoItP@hotmail.com    {381064, 458030}\n",
       "zzyvegdhAJTFNDRQhMS@hotmail.com             {232950}\n",
       "Name: Id, Length: 249156, dtype: object"
      ]
     },
     "metadata": {},
     "execution_count": 72
    }
   ],
   "source": [
    "dfE"
   ]
  },
  {
   "cell_type": "code",
   "execution_count": 11,
   "metadata": {},
   "outputs": [],
   "source": [
    "dictP2 = {}\n",
    "\n",
    "num = 0\n",
    "for i in ls_pn:\n",
    "    temp = []\n",
    "    for j in range(num, len(ls_idpz)):\n",
    "        if i == ls_idpz[j][1]:\n",
    "            temp.append(ls_idpz[j][0])\n",
    "            dictP2[i] = temp\n",
    "            num +=1\n",
    "        else:\n",
    "            break\n"
   ]
  },
  {
   "cell_type": "code",
   "execution_count": 12,
   "metadata": {},
   "outputs": [],
   "source": [
    "dictO2 = {}\n",
    "\n",
    "num = 0\n",
    "for i in ls_on:\n",
    "    temp = []\n",
    "    for j in range(num, len(ls_idoz)):\n",
    "        if i == ls_idoz[j][1]:\n",
    "            temp.append(ls_idoz[j][0])\n",
    "            dictO2[i] = temp\n",
    "            num +=1\n",
    "        else:\n",
    "            break"
   ]
  },
  {
   "cell_type": "code",
   "execution_count": 13,
   "metadata": {},
   "outputs": [
    {
     "output_type": "stream",
     "name": "stdout",
     "text": [
      "249156\n190677\n189302\n"
     ]
    }
   ],
   "source": [
    "# Convert to List\n",
    "\n",
    "valueE = dictE2.values()\n",
    "valuelistE = list(valueE)\n",
    "print(len(valuelistE))\n",
    "\n",
    "valueP = dictP2.values()\n",
    "valuelistP = list(valueP)\n",
    "print(len(valuelistP))\n",
    "\n",
    "valueO = dictO2.values()\n",
    "valuelistO = list(valueO)\n",
    "print(len(valuelistO))"
   ]
  },
  {
   "cell_type": "code",
   "execution_count": 14,
   "metadata": {},
   "outputs": [
    {
     "output_type": "execute_result",
     "data": {
      "text/plain": [
       "629135"
      ]
     },
     "metadata": {},
     "execution_count": 14
    }
   ],
   "source": [
    "valuelistALL = valuelistP + valuelistO + valuelistE\n",
    "len(valuelistALL)"
   ]
  },
  {
   "cell_type": "code",
   "execution_count": 15,
   "metadata": {},
   "outputs": [],
   "source": [
    "# l = [['a','b','c'],['b','d','e'],['k'],['o','p'],['e','f'],['p','a'],['d','g']]\n",
    "l = valuelistALL\n",
    "\n",
    "import networkx \n",
    "from networkx.algorithms.components.connected import connected_components\n",
    "\n",
    "\n",
    "def to_graph(l):\n",
    "    G = networkx.Graph()\n",
    "    for part in l:\n",
    "        # each sublist is a bunch of nodes\n",
    "        G.add_nodes_from(part)\n",
    "        # it also imlies a number of edges:\n",
    "        G.add_edges_from(to_edges(part))\n",
    "    return G\n",
    "\n",
    "def to_edges(l):\n",
    "    \"\"\" \n",
    "        treat `l` as a Graph and returns it's edges \n",
    "        to_edges(['a','b','c','d']) -> [(a,b), (b,c),(c,d)]\n",
    "    \"\"\"\n",
    "    it = iter(l)\n",
    "    last = next(it)\n",
    "\n",
    "    for current in it:\n",
    "        yield last, current\n",
    "        last = current    \n",
    "\n",
    "G = to_graph(l)\n",
    "# print(G.connected_components())"
   ]
  },
  {
   "cell_type": "code",
   "execution_count": 16,
   "metadata": {},
   "outputs": [],
   "source": [
    "main_idx = []\n",
    "\n",
    "for i in connected_components(G):\n",
    "    main_idx.append(list(i))"
   ]
  },
  {
   "cell_type": "code",
   "execution_count": 17,
   "metadata": {},
   "outputs": [
    {
     "output_type": "execute_result",
     "data": {
      "text/plain": [
       "500000"
      ]
     },
     "metadata": {},
     "execution_count": 17
    }
   ],
   "source": [
    "x = 0\n",
    "\n",
    "for i in main_idx:\n",
    "    for j in i:\n",
    "        x += 1\n",
    "\n",
    "x"
   ]
  },
  {
   "cell_type": "code",
   "execution_count": 18,
   "metadata": {},
   "outputs": [],
   "source": [
    "ls_ct = list(df['contacts'])"
   ]
  },
  {
   "cell_type": "code",
   "execution_count": 19,
   "metadata": {},
   "outputs": [],
   "source": [
    "sum_ct = []\n",
    "\n",
    "for row in main_idx:\n",
    "    num = 0\n",
    "    for j in row:\n",
    "        num += ls_ct[j]\n",
    "    sum_ct.append(num)"
   ]
  },
  {
   "cell_type": "code",
   "execution_count": 20,
   "metadata": {},
   "outputs": [
    {
     "output_type": "execute_result",
     "data": {
      "text/plain": [
       "291904"
      ]
     },
     "metadata": {},
     "execution_count": 20
    }
   ],
   "source": [
    "len(sum_ct)"
   ]
  },
  {
   "cell_type": "code",
   "execution_count": 21,
   "metadata": {},
   "outputs": [],
   "source": [
    "idx_str = []\n",
    "\n",
    "for row in main_idx:\n",
    "    row = sorted(row)\n",
    "    format = [str(j) for j in row]\n",
    "    format = '-'.join(format)\n",
    "    idx_str.append(format)\n"
   ]
  },
  {
   "cell_type": "code",
   "execution_count": 22,
   "metadata": {},
   "outputs": [
    {
     "output_type": "execute_result",
     "data": {
      "text/plain": [
       "291904"
      ]
     },
     "metadata": {},
     "execution_count": 22
    }
   ],
   "source": [
    "len(idx_str)"
   ]
  },
  {
   "cell_type": "code",
   "execution_count": 23,
   "metadata": {},
   "outputs": [],
   "source": [
    "ori_index = list(df['id'])"
   ]
  },
  {
   "cell_type": "code",
   "execution_count": 24,
   "metadata": {},
   "outputs": [],
   "source": [
    "combi_lst = list(zip(main_idx, idx_str, sum_ct))"
   ]
  },
  {
   "cell_type": "code",
   "execution_count": 25,
   "metadata": {},
   "outputs": [],
   "source": [
    "# CARA 2\n",
    "new_ct = []\n",
    "new_str = []\n",
    "explode = []\n",
    "\n",
    "for row in combi_lst:\n",
    "    for j in row[0]:\n",
    "        explode.append([j, row[1], row[2]])"
   ]
  },
  {
   "cell_type": "code",
   "execution_count": 26,
   "metadata": {},
   "outputs": [
    {
     "output_type": "execute_result",
     "data": {
      "text/plain": [
       "([286504, 92300, 304154, 318092], '92300-286504-304154-318092', 7)"
      ]
     },
     "metadata": {},
     "execution_count": 26
    }
   ],
   "source": [
    "combi_lst[0]"
   ]
  },
  {
   "cell_type": "code",
   "execution_count": 27,
   "metadata": {},
   "outputs": [],
   "source": [
    "explode = sorted(explode, key = lambda x: x[0])"
   ]
  },
  {
   "cell_type": "code",
   "execution_count": 28,
   "metadata": {},
   "outputs": [
    {
     "output_type": "execute_result",
     "data": {
      "text/plain": [
       "            id                                  id group  sum contacts\n",
       "0            0                                         0             1\n",
       "1            1  1-2458-98519-115061-140081-165605-476346            12\n",
       "2            2                    2-159312-322639-348955             4\n",
       "3            3                                         3             0\n",
       "4            4                                         4             2\n",
       "...        ...                                       ...           ...\n",
       "499995  499995                                    499995             2\n",
       "499996  499996                                    499996             4\n",
       "499997  499997                                    499997             2\n",
       "499998  499998                             121111-499998             5\n",
       "499999  499999                                    499999             0\n",
       "\n",
       "[500000 rows x 3 columns]"
      ],
      "text/html": "<div>\n<style scoped>\n    .dataframe tbody tr th:only-of-type {\n        vertical-align: middle;\n    }\n\n    .dataframe tbody tr th {\n        vertical-align: top;\n    }\n\n    .dataframe thead th {\n        text-align: right;\n    }\n</style>\n<table border=\"1\" class=\"dataframe\">\n  <thead>\n    <tr style=\"text-align: right;\">\n      <th></th>\n      <th>id</th>\n      <th>id group</th>\n      <th>sum contacts</th>\n    </tr>\n  </thead>\n  <tbody>\n    <tr>\n      <th>0</th>\n      <td>0</td>\n      <td>0</td>\n      <td>1</td>\n    </tr>\n    <tr>\n      <th>1</th>\n      <td>1</td>\n      <td>1-2458-98519-115061-140081-165605-476346</td>\n      <td>12</td>\n    </tr>\n    <tr>\n      <th>2</th>\n      <td>2</td>\n      <td>2-159312-322639-348955</td>\n      <td>4</td>\n    </tr>\n    <tr>\n      <th>3</th>\n      <td>3</td>\n      <td>3</td>\n      <td>0</td>\n    </tr>\n    <tr>\n      <th>4</th>\n      <td>4</td>\n      <td>4</td>\n      <td>2</td>\n    </tr>\n    <tr>\n      <th>...</th>\n      <td>...</td>\n      <td>...</td>\n      <td>...</td>\n    </tr>\n    <tr>\n      <th>499995</th>\n      <td>499995</td>\n      <td>499995</td>\n      <td>2</td>\n    </tr>\n    <tr>\n      <th>499996</th>\n      <td>499996</td>\n      <td>499996</td>\n      <td>4</td>\n    </tr>\n    <tr>\n      <th>499997</th>\n      <td>499997</td>\n      <td>499997</td>\n      <td>2</td>\n    </tr>\n    <tr>\n      <th>499998</th>\n      <td>499998</td>\n      <td>121111-499998</td>\n      <td>5</td>\n    </tr>\n    <tr>\n      <th>499999</th>\n      <td>499999</td>\n      <td>499999</td>\n      <td>0</td>\n    </tr>\n  </tbody>\n</table>\n<p>500000 rows × 3 columns</p>\n</div>"
     },
     "metadata": {},
     "execution_count": 28
    }
   ],
   "source": [
    "df_rslt = pd.DataFrame(explode, columns=['id','id group', 'sum contacts'])\n",
    "df_rslt"
   ]
  },
  {
   "cell_type": "code",
   "execution_count": 29,
   "metadata": {},
   "outputs": [
    {
     "output_type": "execute_result",
     "data": {
      "text/plain": [
       "   id                     email         phone  contacts  \\\n",
       "0   0            gkzAbIy@qq.com           NaN         1   \n",
       "1   1                       NaN  329442681752         4   \n",
       "2   2                       NaN    9125983679         0   \n",
       "3   3        mdllpYmE@gmail.com           NaN         0   \n",
       "4   4                       NaN     300364407         2   \n",
       "5   5                       NaN     840113148         0   \n",
       "6   6  hESiBgYTxMnj@hotmail.com           NaN         4   \n",
       "7   7  hqyunTiaXfIjhO@yahoo.com           NaN         1   \n",
       "8   8   XGUjcSiDpFKWEUCs@qq.com  223604620644         2   \n",
       "9   9    osIIQgAiZX@hotmail.com           NaN         0   \n",
       "\n",
       "                     orderid  \\\n",
       "0                        NaN   \n",
       "1  vDDJJcxfLtSfkooPhbYnJdxov   \n",
       "2                        NaN   \n",
       "3  bHquEnCbbsGLqllwryxPsNOxa   \n",
       "4                        NaN   \n",
       "5                        NaN   \n",
       "6                        NaN   \n",
       "7  vxjYZtMUvNhtEBDruzQfjpsmX   \n",
       "8                        NaN   \n",
       "9  IqewrMXVTJqSsVklWFfOpdRNI   \n",
       "\n",
       "                                            id group  sum contacts  \n",
       "0                                                  0             1  \n",
       "1           1-2458-98519-115061-140081-165605-476346            12  \n",
       "2                             2-159312-322639-348955             4  \n",
       "3                                                  3             0  \n",
       "4                                                  4             2  \n",
       "5  5-50-212533-215197-226720-383605-404324-458692...            15  \n",
       "6                           6-38-32871-142067-236367            13  \n",
       "7                                                  7             1  \n",
       "8                                    8-183160-406623             5  \n",
       "9       9-13-16708-33415-343161-417916-468927-484896             8  "
      ],
      "text/html": "<div>\n<style scoped>\n    .dataframe tbody tr th:only-of-type {\n        vertical-align: middle;\n    }\n\n    .dataframe tbody tr th {\n        vertical-align: top;\n    }\n\n    .dataframe thead th {\n        text-align: right;\n    }\n</style>\n<table border=\"1\" class=\"dataframe\">\n  <thead>\n    <tr style=\"text-align: right;\">\n      <th></th>\n      <th>id</th>\n      <th>email</th>\n      <th>phone</th>\n      <th>contacts</th>\n      <th>orderid</th>\n      <th>id group</th>\n      <th>sum contacts</th>\n    </tr>\n  </thead>\n  <tbody>\n    <tr>\n      <th>0</th>\n      <td>0</td>\n      <td>gkzAbIy@qq.com</td>\n      <td>NaN</td>\n      <td>1</td>\n      <td>NaN</td>\n      <td>0</td>\n      <td>1</td>\n    </tr>\n    <tr>\n      <th>1</th>\n      <td>1</td>\n      <td>NaN</td>\n      <td>329442681752</td>\n      <td>4</td>\n      <td>vDDJJcxfLtSfkooPhbYnJdxov</td>\n      <td>1-2458-98519-115061-140081-165605-476346</td>\n      <td>12</td>\n    </tr>\n    <tr>\n      <th>2</th>\n      <td>2</td>\n      <td>NaN</td>\n      <td>9125983679</td>\n      <td>0</td>\n      <td>NaN</td>\n      <td>2-159312-322639-348955</td>\n      <td>4</td>\n    </tr>\n    <tr>\n      <th>3</th>\n      <td>3</td>\n      <td>mdllpYmE@gmail.com</td>\n      <td>NaN</td>\n      <td>0</td>\n      <td>bHquEnCbbsGLqllwryxPsNOxa</td>\n      <td>3</td>\n      <td>0</td>\n    </tr>\n    <tr>\n      <th>4</th>\n      <td>4</td>\n      <td>NaN</td>\n      <td>300364407</td>\n      <td>2</td>\n      <td>NaN</td>\n      <td>4</td>\n      <td>2</td>\n    </tr>\n    <tr>\n      <th>5</th>\n      <td>5</td>\n      <td>NaN</td>\n      <td>840113148</td>\n      <td>0</td>\n      <td>NaN</td>\n      <td>5-50-212533-215197-226720-383605-404324-458692...</td>\n      <td>15</td>\n    </tr>\n    <tr>\n      <th>6</th>\n      <td>6</td>\n      <td>hESiBgYTxMnj@hotmail.com</td>\n      <td>NaN</td>\n      <td>4</td>\n      <td>NaN</td>\n      <td>6-38-32871-142067-236367</td>\n      <td>13</td>\n    </tr>\n    <tr>\n      <th>7</th>\n      <td>7</td>\n      <td>hqyunTiaXfIjhO@yahoo.com</td>\n      <td>NaN</td>\n      <td>1</td>\n      <td>vxjYZtMUvNhtEBDruzQfjpsmX</td>\n      <td>7</td>\n      <td>1</td>\n    </tr>\n    <tr>\n      <th>8</th>\n      <td>8</td>\n      <td>XGUjcSiDpFKWEUCs@qq.com</td>\n      <td>223604620644</td>\n      <td>2</td>\n      <td>NaN</td>\n      <td>8-183160-406623</td>\n      <td>5</td>\n    </tr>\n    <tr>\n      <th>9</th>\n      <td>9</td>\n      <td>osIIQgAiZX@hotmail.com</td>\n      <td>NaN</td>\n      <td>0</td>\n      <td>IqewrMXVTJqSsVklWFfOpdRNI</td>\n      <td>9-13-16708-33415-343161-417916-468927-484896</td>\n      <td>8</td>\n    </tr>\n  </tbody>\n</table>\n</div>"
     },
     "metadata": {},
     "execution_count": 29
    }
   ],
   "source": [
    "df_total = pd.merge(df,df_rslt,on='id')\n",
    "df_total.head(10)"
   ]
  },
  {
   "cell_type": "code",
   "execution_count": 30,
   "metadata": {},
   "outputs": [
    {
     "output_type": "execute_result",
     "data": {
      "text/plain": [
       "            id                email         phone  contacts  \\\n",
       "0            0       gkzAbIy@qq.com           NaN         1   \n",
       "1            1                  NaN  329442681752         4   \n",
       "2            2                  NaN    9125983679         0   \n",
       "3            3   mdllpYmE@gmail.com           NaN         0   \n",
       "4            4                  NaN     300364407         2   \n",
       "...        ...                  ...           ...       ...   \n",
       "499995  499995                  NaN   10072395382         2   \n",
       "499996  499996                  NaN  571709661031         4   \n",
       "499997  499997                  NaN    4541459979         2   \n",
       "499998  499998  RzSDsyH@hotmail.com   98947185431         1   \n",
       "499999  499999                  NaN  880053388839         0   \n",
       "\n",
       "                          orderid                                  id group  \\\n",
       "0                             NaN                                         0   \n",
       "1       vDDJJcxfLtSfkooPhbYnJdxov  1-2458-98519-115061-140081-165605-476346   \n",
       "2                             NaN                    2-159312-322639-348955   \n",
       "3       bHquEnCbbsGLqllwryxPsNOxa                                         3   \n",
       "4                             NaN                                         4   \n",
       "...                           ...                                       ...   \n",
       "499995  whJlUOGNqjxCRzmIRdURQvlNv                                    499995   \n",
       "499996  JqIXOONvrwvJxZqNxCYHqnrKS                                    499996   \n",
       "499997  beXCZSzcHaBwAYoDcpQqjuAFO                                    499997   \n",
       "499998  ehjeFACGiwrERQxbziMxwOWku                             121111-499998   \n",
       "499999  JibSBRgzYdfzkzbTuGUXrcvDX                                    499999   \n",
       "\n",
       "        sum contacts  \n",
       "0                  1  \n",
       "1                 12  \n",
       "2                  4  \n",
       "3                  0  \n",
       "4                  2  \n",
       "...              ...  \n",
       "499995             2  \n",
       "499996             4  \n",
       "499997             2  \n",
       "499998             5  \n",
       "499999             0  \n",
       "\n",
       "[500000 rows x 7 columns]"
      ],
      "text/html": "<div>\n<style scoped>\n    .dataframe tbody tr th:only-of-type {\n        vertical-align: middle;\n    }\n\n    .dataframe tbody tr th {\n        vertical-align: top;\n    }\n\n    .dataframe thead th {\n        text-align: right;\n    }\n</style>\n<table border=\"1\" class=\"dataframe\">\n  <thead>\n    <tr style=\"text-align: right;\">\n      <th></th>\n      <th>id</th>\n      <th>email</th>\n      <th>phone</th>\n      <th>contacts</th>\n      <th>orderid</th>\n      <th>id group</th>\n      <th>sum contacts</th>\n    </tr>\n  </thead>\n  <tbody>\n    <tr>\n      <th>0</th>\n      <td>0</td>\n      <td>gkzAbIy@qq.com</td>\n      <td>NaN</td>\n      <td>1</td>\n      <td>NaN</td>\n      <td>0</td>\n      <td>1</td>\n    </tr>\n    <tr>\n      <th>1</th>\n      <td>1</td>\n      <td>NaN</td>\n      <td>329442681752</td>\n      <td>4</td>\n      <td>vDDJJcxfLtSfkooPhbYnJdxov</td>\n      <td>1-2458-98519-115061-140081-165605-476346</td>\n      <td>12</td>\n    </tr>\n    <tr>\n      <th>2</th>\n      <td>2</td>\n      <td>NaN</td>\n      <td>9125983679</td>\n      <td>0</td>\n      <td>NaN</td>\n      <td>2-159312-322639-348955</td>\n      <td>4</td>\n    </tr>\n    <tr>\n      <th>3</th>\n      <td>3</td>\n      <td>mdllpYmE@gmail.com</td>\n      <td>NaN</td>\n      <td>0</td>\n      <td>bHquEnCbbsGLqllwryxPsNOxa</td>\n      <td>3</td>\n      <td>0</td>\n    </tr>\n    <tr>\n      <th>4</th>\n      <td>4</td>\n      <td>NaN</td>\n      <td>300364407</td>\n      <td>2</td>\n      <td>NaN</td>\n      <td>4</td>\n      <td>2</td>\n    </tr>\n    <tr>\n      <th>...</th>\n      <td>...</td>\n      <td>...</td>\n      <td>...</td>\n      <td>...</td>\n      <td>...</td>\n      <td>...</td>\n      <td>...</td>\n    </tr>\n    <tr>\n      <th>499995</th>\n      <td>499995</td>\n      <td>NaN</td>\n      <td>10072395382</td>\n      <td>2</td>\n      <td>whJlUOGNqjxCRzmIRdURQvlNv</td>\n      <td>499995</td>\n      <td>2</td>\n    </tr>\n    <tr>\n      <th>499996</th>\n      <td>499996</td>\n      <td>NaN</td>\n      <td>571709661031</td>\n      <td>4</td>\n      <td>JqIXOONvrwvJxZqNxCYHqnrKS</td>\n      <td>499996</td>\n      <td>4</td>\n    </tr>\n    <tr>\n      <th>499997</th>\n      <td>499997</td>\n      <td>NaN</td>\n      <td>4541459979</td>\n      <td>2</td>\n      <td>beXCZSzcHaBwAYoDcpQqjuAFO</td>\n      <td>499997</td>\n      <td>2</td>\n    </tr>\n    <tr>\n      <th>499998</th>\n      <td>499998</td>\n      <td>RzSDsyH@hotmail.com</td>\n      <td>98947185431</td>\n      <td>1</td>\n      <td>ehjeFACGiwrERQxbziMxwOWku</td>\n      <td>121111-499998</td>\n      <td>5</td>\n    </tr>\n    <tr>\n      <th>499999</th>\n      <td>499999</td>\n      <td>NaN</td>\n      <td>880053388839</td>\n      <td>0</td>\n      <td>JibSBRgzYdfzkzbTuGUXrcvDX</td>\n      <td>499999</td>\n      <td>0</td>\n    </tr>\n  </tbody>\n</table>\n<p>500000 rows × 7 columns</p>\n</div>"
     },
     "metadata": {},
     "execution_count": 30
    }
   ],
   "source": [
    "df_total"
   ]
  },
  {
   "cell_type": "code",
   "execution_count": 31,
   "metadata": {},
   "outputs": [
    {
     "output_type": "stream",
     "name": "stdout",
     "text": [
      "Time Elapsed: \n14.217277526855469\n"
     ]
    }
   ],
   "source": [
    "end = tm.time()\n",
    "\n",
    "print(\"Time Elapsed: \")\n",
    "print(end - start)"
   ]
  }
 ]
}