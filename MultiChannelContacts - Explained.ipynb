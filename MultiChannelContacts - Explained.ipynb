{
 "metadata": {
  "language_info": {
   "codemirror_mode": {
    "name": "ipython",
    "version": 3
   },
   "file_extension": ".py",
   "mimetype": "text/x-python",
   "name": "python",
   "nbconvert_exporter": "python",
   "pygments_lexer": "ipython3",
   "version": "3.7.6-final"
  },
  "orig_nbformat": 2,
  "kernelspec": {
   "name": "python3",
   "display_name": "Python 3",
   "language": "python"
  }
 },
 "nbformat": 4,
 "nbformat_minor": 2,
 "cells": [
  {
   "source": [
    "## Import Required Libraries"
   ],
   "cell_type": "markdown",
   "metadata": {}
  },
  {
   "source": [
    "import pandas as pd\n",
    "import numpy as np\n",
    "import networkx \n",
    "from networkx.algorithms.components.connected import connected_components"
   ],
   "cell_type": "code",
   "metadata": {},
   "execution_count": 1,
   "outputs": []
  },
  {
   "source": [
    "## Import Dataset"
   ],
   "cell_type": "markdown",
   "metadata": {}
  },
  {
   "cell_type": "code",
   "execution_count": 2,
   "metadata": {},
   "outputs": [],
   "source": [
    "# Dataset can be accessed in https://www.kaggle.com/c/scl-2021-da/overview\n",
    "df = pd.read_json('contacts.json')"
   ]
  },
  {
   "cell_type": "code",
   "execution_count": 3,
   "metadata": {},
   "outputs": [
    {
     "output_type": "execute_result",
     "data": {
      "text/plain": [
       "   Id                     Email         Phone  Contacts  \\\n",
       "0   0            gkzAbIy@qq.com                       1   \n",
       "1   1                            329442681752         4   \n",
       "2   2                              9125983679         0   \n",
       "3   3        mdllpYmE@gmail.com                       0   \n",
       "4   4                               300364407         2   \n",
       "5   5                               840113148         0   \n",
       "6   6  hESiBgYTxMnj@hotmail.com                       4   \n",
       "7   7  hqyunTiaXfIjhO@yahoo.com                       1   \n",
       "8   8   XGUjcSiDpFKWEUCs@qq.com  223604620644         2   \n",
       "9   9    osIIQgAiZX@hotmail.com                       0   \n",
       "\n",
       "                     OrderId  \n",
       "0                             \n",
       "1  vDDJJcxfLtSfkooPhbYnJdxov  \n",
       "2                             \n",
       "3  bHquEnCbbsGLqllwryxPsNOxa  \n",
       "4                             \n",
       "5                             \n",
       "6                             \n",
       "7  vxjYZtMUvNhtEBDruzQfjpsmX  \n",
       "8                             \n",
       "9  IqewrMXVTJqSsVklWFfOpdRNI  "
      ],
      "text/html": "<div>\n<style scoped>\n    .dataframe tbody tr th:only-of-type {\n        vertical-align: middle;\n    }\n\n    .dataframe tbody tr th {\n        vertical-align: top;\n    }\n\n    .dataframe thead th {\n        text-align: right;\n    }\n</style>\n<table border=\"1\" class=\"dataframe\">\n  <thead>\n    <tr style=\"text-align: right;\">\n      <th></th>\n      <th>Id</th>\n      <th>Email</th>\n      <th>Phone</th>\n      <th>Contacts</th>\n      <th>OrderId</th>\n    </tr>\n  </thead>\n  <tbody>\n    <tr>\n      <th>0</th>\n      <td>0</td>\n      <td>gkzAbIy@qq.com</td>\n      <td></td>\n      <td>1</td>\n      <td></td>\n    </tr>\n    <tr>\n      <th>1</th>\n      <td>1</td>\n      <td></td>\n      <td>329442681752</td>\n      <td>4</td>\n      <td>vDDJJcxfLtSfkooPhbYnJdxov</td>\n    </tr>\n    <tr>\n      <th>2</th>\n      <td>2</td>\n      <td></td>\n      <td>9125983679</td>\n      <td>0</td>\n      <td></td>\n    </tr>\n    <tr>\n      <th>3</th>\n      <td>3</td>\n      <td>mdllpYmE@gmail.com</td>\n      <td></td>\n      <td>0</td>\n      <td>bHquEnCbbsGLqllwryxPsNOxa</td>\n    </tr>\n    <tr>\n      <th>4</th>\n      <td>4</td>\n      <td></td>\n      <td>300364407</td>\n      <td>2</td>\n      <td></td>\n    </tr>\n    <tr>\n      <th>5</th>\n      <td>5</td>\n      <td></td>\n      <td>840113148</td>\n      <td>0</td>\n      <td></td>\n    </tr>\n    <tr>\n      <th>6</th>\n      <td>6</td>\n      <td>hESiBgYTxMnj@hotmail.com</td>\n      <td></td>\n      <td>4</td>\n      <td></td>\n    </tr>\n    <tr>\n      <th>7</th>\n      <td>7</td>\n      <td>hqyunTiaXfIjhO@yahoo.com</td>\n      <td></td>\n      <td>1</td>\n      <td>vxjYZtMUvNhtEBDruzQfjpsmX</td>\n    </tr>\n    <tr>\n      <th>8</th>\n      <td>8</td>\n      <td>XGUjcSiDpFKWEUCs@qq.com</td>\n      <td>223604620644</td>\n      <td>2</td>\n      <td></td>\n    </tr>\n    <tr>\n      <th>9</th>\n      <td>9</td>\n      <td>osIIQgAiZX@hotmail.com</td>\n      <td></td>\n      <td>0</td>\n      <td>IqewrMXVTJqSsVklWFfOpdRNI</td>\n    </tr>\n  </tbody>\n</table>\n</div>"
     },
     "metadata": {},
     "execution_count": 3
    }
   ],
   "source": [
    "df.head(10)"
   ]
  },
  {
   "source": [
    "### We can see that the dataset is full of '', so our first task is to replace the '' to Nan"
   ],
   "cell_type": "markdown",
   "metadata": {}
  },
  {
   "cell_type": "code",
   "execution_count": 4,
   "metadata": {},
   "outputs": [],
   "source": [
    "df = df.replace('', np.nan)"
   ]
  },
  {
   "cell_type": "code",
   "execution_count": 5,
   "metadata": {},
   "outputs": [
    {
     "output_type": "execute_result",
     "data": {
      "text/plain": [
       "   Id                     Email         Phone  Contacts  \\\n",
       "0   0            gkzAbIy@qq.com           NaN         1   \n",
       "1   1                       NaN  329442681752         4   \n",
       "2   2                       NaN    9125983679         0   \n",
       "3   3        mdllpYmE@gmail.com           NaN         0   \n",
       "4   4                       NaN     300364407         2   \n",
       "5   5                       NaN     840113148         0   \n",
       "6   6  hESiBgYTxMnj@hotmail.com           NaN         4   \n",
       "7   7  hqyunTiaXfIjhO@yahoo.com           NaN         1   \n",
       "8   8   XGUjcSiDpFKWEUCs@qq.com  223604620644         2   \n",
       "9   9    osIIQgAiZX@hotmail.com           NaN         0   \n",
       "\n",
       "                     OrderId  \n",
       "0                        NaN  \n",
       "1  vDDJJcxfLtSfkooPhbYnJdxov  \n",
       "2                        NaN  \n",
       "3  bHquEnCbbsGLqllwryxPsNOxa  \n",
       "4                        NaN  \n",
       "5                        NaN  \n",
       "6                        NaN  \n",
       "7  vxjYZtMUvNhtEBDruzQfjpsmX  \n",
       "8                        NaN  \n",
       "9  IqewrMXVTJqSsVklWFfOpdRNI  "
      ],
      "text/html": "<div>\n<style scoped>\n    .dataframe tbody tr th:only-of-type {\n        vertical-align: middle;\n    }\n\n    .dataframe tbody tr th {\n        vertical-align: top;\n    }\n\n    .dataframe thead th {\n        text-align: right;\n    }\n</style>\n<table border=\"1\" class=\"dataframe\">\n  <thead>\n    <tr style=\"text-align: right;\">\n      <th></th>\n      <th>Id</th>\n      <th>Email</th>\n      <th>Phone</th>\n      <th>Contacts</th>\n      <th>OrderId</th>\n    </tr>\n  </thead>\n  <tbody>\n    <tr>\n      <th>0</th>\n      <td>0</td>\n      <td>gkzAbIy@qq.com</td>\n      <td>NaN</td>\n      <td>1</td>\n      <td>NaN</td>\n    </tr>\n    <tr>\n      <th>1</th>\n      <td>1</td>\n      <td>NaN</td>\n      <td>329442681752</td>\n      <td>4</td>\n      <td>vDDJJcxfLtSfkooPhbYnJdxov</td>\n    </tr>\n    <tr>\n      <th>2</th>\n      <td>2</td>\n      <td>NaN</td>\n      <td>9125983679</td>\n      <td>0</td>\n      <td>NaN</td>\n    </tr>\n    <tr>\n      <th>3</th>\n      <td>3</td>\n      <td>mdllpYmE@gmail.com</td>\n      <td>NaN</td>\n      <td>0</td>\n      <td>bHquEnCbbsGLqllwryxPsNOxa</td>\n    </tr>\n    <tr>\n      <th>4</th>\n      <td>4</td>\n      <td>NaN</td>\n      <td>300364407</td>\n      <td>2</td>\n      <td>NaN</td>\n    </tr>\n    <tr>\n      <th>5</th>\n      <td>5</td>\n      <td>NaN</td>\n      <td>840113148</td>\n      <td>0</td>\n      <td>NaN</td>\n    </tr>\n    <tr>\n      <th>6</th>\n      <td>6</td>\n      <td>hESiBgYTxMnj@hotmail.com</td>\n      <td>NaN</td>\n      <td>4</td>\n      <td>NaN</td>\n    </tr>\n    <tr>\n      <th>7</th>\n      <td>7</td>\n      <td>hqyunTiaXfIjhO@yahoo.com</td>\n      <td>NaN</td>\n      <td>1</td>\n      <td>vxjYZtMUvNhtEBDruzQfjpsmX</td>\n    </tr>\n    <tr>\n      <th>8</th>\n      <td>8</td>\n      <td>XGUjcSiDpFKWEUCs@qq.com</td>\n      <td>223604620644</td>\n      <td>2</td>\n      <td>NaN</td>\n    </tr>\n    <tr>\n      <th>9</th>\n      <td>9</td>\n      <td>osIIQgAiZX@hotmail.com</td>\n      <td>NaN</td>\n      <td>0</td>\n      <td>IqewrMXVTJqSsVklWFfOpdRNI</td>\n    </tr>\n  </tbody>\n</table>\n</div>"
     },
     "metadata": {},
     "execution_count": 5
    }
   ],
   "source": [
    "df.head(10)"
   ]
  },
  {
   "source": [
    "## Problem Formulation and Problem Solving Plan"
   ],
   "cell_type": "markdown",
   "metadata": {}
  },
  {
   "source": [
    "Next, to solve this multi-channel contacts problem, my general flow is basically:\n",
    "\n",
    "1.  Find and gather \"ID\" that has common element in each column.                                    This way, you will a list of \"ID\" that shares same Order ID, Email, Phone\n",
    "2.  As explained in the problem overview, some ticket also linked cross-column.                     We need to check for every list of \"ID\" we got from Step 1, whether they share at              least 1 \"ID\" with others or not. If it is yes, then we need to combine it.\n",
    " 3.  After we get the final list of \"ID\", all that's left is to count the sum of the                 contacts. \n"
   ],
   "cell_type": "markdown",
   "metadata": {}
  },
  {
   "source": [
    "![title](Intro-1.jpg)"
   ],
   "cell_type": "markdown",
   "metadata": {}
  },
  {
   "source": [
    "![title](Intro-2.jpg)"
   ],
   "cell_type": "markdown",
   "metadata": {}
  },
  {
   "source": [
    "## 1. Link Ticket with Common Element in Each Column"
   ],
   "cell_type": "markdown",
   "metadata": {}
  },
  {
   "cell_type": "code",
   "execution_count": 6,
   "metadata": {},
   "outputs": [],
   "source": [
    "# Simplest - but not the fastest - way is to use groupby and apply set\n",
    "# Don't forget to use subset notNa because we don't need row with NaN entry\n",
    "common_email = df[df['Email'].notna()].groupby('Email')['Id'].apply(set)\n",
    "common_phone = df[df['Phone'].notna()].groupby('Phone')['Id'].apply(set)\n",
    "common_orderid = df[df['OrderId'].notna()].groupby('OrderId')['Id'].apply(set)"
   ]
  },
  {
   "cell_type": "code",
   "execution_count": 7,
   "metadata": {},
   "outputs": [
    {
     "output_type": "execute_result",
     "data": {
      "text/plain": [
       "Email\n",
       "AAAQbNfGbLAeOvw@hotmail.com         {470075, 112387}\n",
       "AAAgyKTteOjasN@qq.com                       {338154}\n",
       "AABZmKeEldvO@gmail.com                      {426495}\n",
       "AABneiGcqcz@qq.com                           {37868}\n",
       "AABtOIZmdYdKGnidAK@yahoo.com                {137956}\n",
       "                                          ...       \n",
       "zzyYjbPWM@hotmail.com               {143089, 338473}\n",
       "zzyacSRLb@gmail.com                         {425119}\n",
       "zzylmjkoqfCkTOxi@hotmail.com                {146556}\n",
       "zzyvKfCcQWPJdShGoItP@hotmail.com    {381064, 458030}\n",
       "zzyvegdhAJTFNDRQhMS@hotmail.com             {232950}\n",
       "Name: Id, Length: 249156, dtype: object"
      ]
     },
     "metadata": {},
     "execution_count": 7
    }
   ],
   "source": [
    "# Example: \"AAAQbNfGbLAeOvw@hotmail.com\" email has 2 ID members \n",
    "common_email"
   ]
  },
  {
   "cell_type": "code",
   "execution_count": 8,
   "metadata": {},
   "outputs": [],
   "source": [
    "# Next, we have to concatenate all the list of ID into one long list of IDs\n",
    "common_concat = pd.concat([common_email, common_phone, common_orderid])"
   ]
  },
  {
   "source": [
    "## 2. Link Ticket with Cross Column Link"
   ],
   "cell_type": "markdown",
   "metadata": {}
  },
  {
   "source": [
    "Simplest way to this is to use Networkx Library to make graph.\n",
    "Imagine each ID you gathered before is graph nodes, and you want to find all the connections for all the graph nodes"
   ],
   "cell_type": "markdown",
   "metadata": {}
  },
  {
   "cell_type": "code",
   "execution_count": 9,
   "metadata": {},
   "outputs": [],
   "source": [
    "def to_graph(l):\n",
    "    G = networkx.Graph()\n",
    "    for part in l:\n",
    "        # For every sublist, imagine it as list of graph nodes\n",
    "        G.add_nodes_from(part)\n",
    "        G.add_edges_from(to_edges(part))\n",
    "    return G\n",
    "\n",
    "def to_edges(l):\n",
    "    it = iter(l)\n",
    "    last = next(it)\n",
    "\n",
    "    for current in it:\n",
    "        yield last, current\n",
    "        last = current    \n",
    "\n",
    "graph = to_graph(common_concat)"
   ]
  },
  {
   "cell_type": "code",
   "execution_count": 10,
   "metadata": {},
   "outputs": [],
   "source": [
    "# Extract the connected components to a list\n",
    "common_all = [list(i) for i in connected_components(graph)]"
   ]
  },
  {
   "cell_type": "code",
   "execution_count": 11,
   "metadata": {},
   "outputs": [
    {
     "output_type": "execute_result",
     "data": {
      "text/plain": [
       "[[112387, 470075],\n",
       " [338154],\n",
       " [426495],\n",
       " [308856, 37868, 126317],\n",
       " [137956],\n",
       " [78833, 407938, 494574],\n",
       " [19504, 179125],\n",
       " [73472, 310113, 216393, 482411, 475822, 435438, 299505, 51764],\n",
       " [299171],\n",
       " [386346]]"
      ]
     },
     "metadata": {},
     "execution_count": 11
    }
   ],
   "source": [
    "# We have connected every ID that's available. You can see below\n",
    "common_all[0:10]"
   ]
  },
  {
   "source": [
    "## 3. Start Counting the Contacts"
   ],
   "cell_type": "markdown",
   "metadata": {}
  },
  {
   "cell_type": "code",
   "execution_count": 12,
   "metadata": {},
   "outputs": [],
   "source": [
    "# Next, for every sublist, then for every ID in each sublist, sum the contacts\n",
    "\n",
    "sum_count = []\n",
    "\n",
    "for row in common_all:\n",
    "    count = 0\n",
    "    for i in row:\n",
    "        count += df['Contacts'][i]\n",
    "    sum_count.append(count)"
   ]
  },
  {
   "cell_type": "code",
   "execution_count": 13,
   "metadata": {},
   "outputs": [],
   "source": [
    "# Formatting\n",
    "# Next, for every sublist, then for every ID in each sublist, we need to reformat the text to follow Shopee's instructions\n",
    "\n",
    "ticket_trace = []\n",
    "\n",
    "for row in common_all:\n",
    "    row = sorted(row)\n",
    "    formatted = [str(i) for i in row]\n",
    "    formatted = '-'.join(formatted)\n",
    "    ticket_trace.append(formatted)"
   ]
  },
  {
   "cell_type": "code",
   "execution_count": 14,
   "metadata": {},
   "outputs": [],
   "source": [
    "# Combine the original list of ID, ticket trace (list of ID but reformatted), and sum of counts\n",
    "combined_list = list(zip(common_all, ticket_trace, sum_count))"
   ]
  },
  {
   "cell_type": "code",
   "execution_count": 15,
   "metadata": {},
   "outputs": [
    {
     "output_type": "execute_result",
     "data": {
      "text/plain": [
       "[([112387, 470075], '112387-470075', 4),\n",
       " ([338154], '338154', 2),\n",
       " ([426495], '426495', 2),\n",
       " ([308856, 37868, 126317], '37868-126317-308856', 7),\n",
       " ([137956], '137956', 1),\n",
       " ([78833, 407938, 494574], '78833-407938-494574', 6),\n",
       " ([19504, 179125], '19504-179125', 3),\n",
       " ([73472, 310113, 216393, 482411, 475822, 435438, 299505, 51764],\n",
       "  '51764-73472-216393-299505-310113-435438-475822-482411',\n",
       "  21),\n",
       " ([299171], '299171', 0),\n",
       " ([386346], '386346', 4)]"
      ]
     },
     "metadata": {},
     "execution_count": 15
    }
   ],
   "source": [
    "# You can see the result like this\n",
    "combined_list[0:10]"
   ]
  },
  {
   "cell_type": "code",
   "execution_count": 16,
   "metadata": {},
   "outputs": [],
   "source": [
    "# Next, we need to \"explode\" the combined list to become the original 500.000 rows DataFrame, complete with ticket trace and sum contact\n",
    "\n",
    "exploded = []\n",
    "\n",
    "for row in combined_list:\n",
    "    for i in row[0]:\n",
    "        ticket_n_contact = row[1] + \", \" + str(row[2])\n",
    "        exploded.append([i, ticket_n_contact])\n",
    "\n",
    "exploded = sorted(exploded, key = lambda x: x[0])"
   ]
  },
  {
   "cell_type": "code",
   "execution_count": 17,
   "metadata": {},
   "outputs": [
    {
     "output_type": "execute_result",
     "data": {
      "text/plain": [
       "        ticket_id                          ticket_trace/contact\n",
       "0               0                                          0, 1\n",
       "1               1  1-2458-98519-115061-140081-165605-476346, 12\n",
       "2               2                     2-159312-322639-348955, 4\n",
       "3               3                                          3, 0\n",
       "4               4                                          4, 2\n",
       "...           ...                                           ...\n",
       "499995     499995                                     499995, 2\n",
       "499996     499996                                     499996, 4\n",
       "499997     499997                                     499997, 2\n",
       "499998     499998                              121111-499998, 5\n",
       "499999     499999                                     499999, 0\n",
       "\n",
       "[500000 rows x 2 columns]"
      ],
      "text/html": "<div>\n<style scoped>\n    .dataframe tbody tr th:only-of-type {\n        vertical-align: middle;\n    }\n\n    .dataframe tbody tr th {\n        vertical-align: top;\n    }\n\n    .dataframe thead th {\n        text-align: right;\n    }\n</style>\n<table border=\"1\" class=\"dataframe\">\n  <thead>\n    <tr style=\"text-align: right;\">\n      <th></th>\n      <th>ticket_id</th>\n      <th>ticket_trace/contact</th>\n    </tr>\n  </thead>\n  <tbody>\n    <tr>\n      <th>0</th>\n      <td>0</td>\n      <td>0, 1</td>\n    </tr>\n    <tr>\n      <th>1</th>\n      <td>1</td>\n      <td>1-2458-98519-115061-140081-165605-476346, 12</td>\n    </tr>\n    <tr>\n      <th>2</th>\n      <td>2</td>\n      <td>2-159312-322639-348955, 4</td>\n    </tr>\n    <tr>\n      <th>3</th>\n      <td>3</td>\n      <td>3, 0</td>\n    </tr>\n    <tr>\n      <th>4</th>\n      <td>4</td>\n      <td>4, 2</td>\n    </tr>\n    <tr>\n      <th>...</th>\n      <td>...</td>\n      <td>...</td>\n    </tr>\n    <tr>\n      <th>499995</th>\n      <td>499995</td>\n      <td>499995, 2</td>\n    </tr>\n    <tr>\n      <th>499996</th>\n      <td>499996</td>\n      <td>499996, 4</td>\n    </tr>\n    <tr>\n      <th>499997</th>\n      <td>499997</td>\n      <td>499997, 2</td>\n    </tr>\n    <tr>\n      <th>499998</th>\n      <td>499998</td>\n      <td>121111-499998, 5</td>\n    </tr>\n    <tr>\n      <th>499999</th>\n      <td>499999</td>\n      <td>499999, 0</td>\n    </tr>\n  </tbody>\n</table>\n<p>500000 rows × 2 columns</p>\n</div>"
     },
     "metadata": {},
     "execution_count": 17
    }
   ],
   "source": [
    "# Convert to DataFrame for Final Result\n",
    "\n",
    "df_result = pd.DataFrame(exploded, columns=[\"ticket_id\", \"ticket_trace/contact\"])\n",
    "df_result"
   ]
  }
 ]
}